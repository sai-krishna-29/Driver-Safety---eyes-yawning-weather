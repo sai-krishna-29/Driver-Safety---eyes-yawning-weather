{
 "cells": [
  {
   "cell_type": "code",
   "execution_count": 1,
   "id": "d9e589af",
   "metadata": {
    "_cell_guid": "b1076dfc-b9ad-4769-8c92-a6c4dae69d19",
    "_uuid": "8f2839f25d086af736a60e9eeb907d3b93b6e0e5",
    "execution": {
     "iopub.execute_input": "2023-06-25T21:46:43.920124Z",
     "iopub.status.busy": "2023-06-25T21:46:43.919753Z",
     "iopub.status.idle": "2023-06-25T21:46:51.788247Z",
     "shell.execute_reply": "2023-06-25T21:46:51.787030Z"
    },
    "papermill": {
     "duration": 7.877407,
     "end_time": "2023-06-25T21:46:51.790539",
     "exception": false,
     "start_time": "2023-06-25T21:46:43.913132",
     "status": "completed"
    },
    "tags": []
   },
   "outputs": [],
   "source": [
    "import numpy as np\n",
    "import pandas as pd\n",
    "import os\n",
    "import cv2\n",
    "import matplotlib.pyplot as plt\n",
    "\n",
    "import tensorflow as tf\n",
    "from tensorflow import keras\n",
    "from tensorflow.keras import *\n",
    "from tensorflow.keras.models import *\n",
    "from tensorflow.keras.layers import *\n",
    "from tensorflow.keras.optimizers import *\n",
    "from tensorflow.keras.callbacks import *\n",
    "\n",
    "import warnings\n",
    "warnings.filterwarnings(\"ignore\")"
   ]
  },
  {
   "cell_type": "code",
   "execution_count": 2,
   "id": "7480fc34",
   "metadata": {
    "execution": {
     "iopub.execute_input": "2023-06-25T21:46:51.802761Z",
     "iopub.status.busy": "2023-06-25T21:46:51.801590Z",
     "iopub.status.idle": "2023-06-25T21:46:51.818912Z",
     "shell.execute_reply": "2023-06-25T21:46:51.817581Z"
    },
    "papermill": {
     "duration": 0.025143,
     "end_time": "2023-06-25T21:46:51.820752",
     "exception": false,
     "start_time": "2023-06-25T21:46:51.795609",
     "status": "completed"
    },
    "tags": []
   },
   "outputs": [
    {
     "name": "stdout",
     "output_type": "stream",
     "text": [
      "GPU device not found\n",
      "Found GPU at: \n"
     ]
    }
   ],
   "source": [
    "device_name = tf.test.gpu_device_name()\n",
    "if \"GPU\" not in device_name:\n",
    "    print(\"GPU device not found\")\n",
    "print('Found GPU at: {}'.format(device_name))\n",
    "\n",
    "os.environ[\"CUDA_VISIBLE_DEVICES\"]='0'"
   ]
  },
  {
   "cell_type": "code",
   "execution_count": 3,
   "id": "9b04540f",
   "metadata": {
    "execution": {
     "iopub.execute_input": "2023-06-25T21:46:51.832176Z",
     "iopub.status.busy": "2023-06-25T21:46:51.831344Z",
     "iopub.status.idle": "2023-06-25T21:46:57.791303Z",
     "shell.execute_reply": "2023-06-25T21:46:57.790075Z"
    },
    "papermill": {
     "duration": 5.967775,
     "end_time": "2023-06-25T21:46:57.793535",
     "exception": false,
     "start_time": "2023-06-25T21:46:51.825760",
     "status": "completed"
    },
    "tags": []
   },
   "outputs": [],
   "source": [
    "DATA_PATH = \"yawn-dataset\"\n",
    "\n",
    "def createDataframe(img_dir, save_as=\"out.csv\"):\n",
    "\n",
    "    dire_map = {}\n",
    "    for dire in os.listdir(img_dir):\n",
    "        if dire == \"yawn\":\n",
    "            dire_map[dire] = 0\n",
    "        elif dire == \"no yawn\":\n",
    "            dire_map[dire] = 1\n",
    "\n",
    "    df = pd.DataFrame(columns = ['img_name', 'path', 'class_label'])\n",
    "    for dire in os.listdir(img_dir):\n",
    "        in_dir = os.path.join(img_dir, dire)\n",
    "        for image in os.listdir(in_dir):\n",
    "            df = df.append({\n",
    "                'img_name': image,\n",
    "                'path': os.path.join(in_dir, image),\n",
    "                'class_label': dire_map[dire]\n",
    "            }, ignore_index=True)\n",
    "\n",
    "    df.to_csv(save_as)\n",
    "    return df\n",
    "\n",
    "df = createDataframe(DATA_PATH)"
   ]
  },
  {
   "cell_type": "code",
   "execution_count": 4,
   "id": "e3b8e2c2",
   "metadata": {
    "execution": {
     "iopub.execute_input": "2023-06-25T21:46:57.804213Z",
     "iopub.status.busy": "2023-06-25T21:46:57.803899Z",
     "iopub.status.idle": "2023-06-25T21:46:57.833240Z",
     "shell.execute_reply": "2023-06-25T21:46:57.832263Z"
    },
    "papermill": {
     "duration": 0.037137,
     "end_time": "2023-06-25T21:46:57.835639",
     "exception": false,
     "start_time": "2023-06-25T21:46:57.798502",
     "status": "completed"
    },
    "tags": []
   },
   "outputs": [
    {
     "data": {
      "text/html": [
       "<div>\n",
       "<style scoped>\n",
       "    .dataframe tbody tr th:only-of-type {\n",
       "        vertical-align: middle;\n",
       "    }\n",
       "\n",
       "    .dataframe tbody tr th {\n",
       "        vertical-align: top;\n",
       "    }\n",
       "\n",
       "    .dataframe thead th {\n",
       "        text-align: right;\n",
       "    }\n",
       "</style>\n",
       "<table border=\"1\" class=\"dataframe\">\n",
       "  <thead>\n",
       "    <tr style=\"text-align: right;\">\n",
       "      <th></th>\n",
       "      <th>img_name</th>\n",
       "      <th>path</th>\n",
       "      <th>class_label</th>\n",
       "    </tr>\n",
       "  </thead>\n",
       "  <tbody>\n",
       "    <tr>\n",
       "      <th>0</th>\n",
       "      <td>2760.jpg</td>\n",
       "      <td>yawn-dataset\\no yawn\\2760.jpg</td>\n",
       "      <td>1</td>\n",
       "    </tr>\n",
       "    <tr>\n",
       "      <th>1</th>\n",
       "      <td>2761.jpg</td>\n",
       "      <td>yawn-dataset\\no yawn\\2761.jpg</td>\n",
       "      <td>1</td>\n",
       "    </tr>\n",
       "    <tr>\n",
       "      <th>2</th>\n",
       "      <td>2762.jpg</td>\n",
       "      <td>yawn-dataset\\no yawn\\2762.jpg</td>\n",
       "      <td>1</td>\n",
       "    </tr>\n",
       "    <tr>\n",
       "      <th>3</th>\n",
       "      <td>2763.jpg</td>\n",
       "      <td>yawn-dataset\\no yawn\\2763.jpg</td>\n",
       "      <td>1</td>\n",
       "    </tr>\n",
       "    <tr>\n",
       "      <th>4</th>\n",
       "      <td>2764.jpg</td>\n",
       "      <td>yawn-dataset\\no yawn\\2764.jpg</td>\n",
       "      <td>1</td>\n",
       "    </tr>\n",
       "    <tr>\n",
       "      <th>...</th>\n",
       "      <td>...</td>\n",
       "      <td>...</td>\n",
       "      <td>...</td>\n",
       "    </tr>\n",
       "    <tr>\n",
       "      <th>5114</th>\n",
       "      <td>995.jpg</td>\n",
       "      <td>yawn-dataset\\yawn\\995.jpg</td>\n",
       "      <td>0</td>\n",
       "    </tr>\n",
       "    <tr>\n",
       "      <th>5115</th>\n",
       "      <td>996.jpg</td>\n",
       "      <td>yawn-dataset\\yawn\\996.jpg</td>\n",
       "      <td>0</td>\n",
       "    </tr>\n",
       "    <tr>\n",
       "      <th>5116</th>\n",
       "      <td>997.jpg</td>\n",
       "      <td>yawn-dataset\\yawn\\997.jpg</td>\n",
       "      <td>0</td>\n",
       "    </tr>\n",
       "    <tr>\n",
       "      <th>5117</th>\n",
       "      <td>998.jpg</td>\n",
       "      <td>yawn-dataset\\yawn\\998.jpg</td>\n",
       "      <td>0</td>\n",
       "    </tr>\n",
       "    <tr>\n",
       "      <th>5118</th>\n",
       "      <td>999.jpg</td>\n",
       "      <td>yawn-dataset\\yawn\\999.jpg</td>\n",
       "      <td>0</td>\n",
       "    </tr>\n",
       "  </tbody>\n",
       "</table>\n",
       "<p>5119 rows × 3 columns</p>\n",
       "</div>"
      ],
      "text/plain": [
       "      img_name                           path class_label\n",
       "0     2760.jpg  yawn-dataset\\no yawn\\2760.jpg           1\n",
       "1     2761.jpg  yawn-dataset\\no yawn\\2761.jpg           1\n",
       "2     2762.jpg  yawn-dataset\\no yawn\\2762.jpg           1\n",
       "3     2763.jpg  yawn-dataset\\no yawn\\2763.jpg           1\n",
       "4     2764.jpg  yawn-dataset\\no yawn\\2764.jpg           1\n",
       "...        ...                            ...         ...\n",
       "5114   995.jpg      yawn-dataset\\yawn\\995.jpg           0\n",
       "5115   996.jpg      yawn-dataset\\yawn\\996.jpg           0\n",
       "5116   997.jpg      yawn-dataset\\yawn\\997.jpg           0\n",
       "5117   998.jpg      yawn-dataset\\yawn\\998.jpg           0\n",
       "5118   999.jpg      yawn-dataset\\yawn\\999.jpg           0\n",
       "\n",
       "[5119 rows x 3 columns]"
      ]
     },
     "execution_count": 4,
     "metadata": {},
     "output_type": "execute_result"
    }
   ],
   "source": [
    "df"
   ]
  },
  {
   "cell_type": "code",
   "execution_count": 5,
   "id": "d2c43ec1",
   "metadata": {
    "execution": {
     "iopub.execute_input": "2023-06-25T21:46:57.848558Z",
     "iopub.status.busy": "2023-06-25T21:46:57.848222Z",
     "iopub.status.idle": "2023-06-25T21:46:57.855793Z",
     "shell.execute_reply": "2023-06-25T21:46:57.854654Z"
    },
    "papermill": {
     "duration": 0.017389,
     "end_time": "2023-06-25T21:46:57.858216",
     "exception": false,
     "start_time": "2023-06-25T21:46:57.840827",
     "status": "completed"
    },
    "tags": []
   },
   "outputs": [],
   "source": [
    "def load_and_preprocess_from_path_label(path, class_label):\n",
    "\n",
    "    image = tf.io.read_file(path)\n",
    "    image = tf.image.decode_jpeg(image, channels=3)\n",
    "    image = tf.image.resize(image, (64, 64))\n",
    "\n",
    "    return image, class_label\n",
    "\n",
    "def augmentation(ds):\n",
    "    preprocessing_model = tf.keras.Sequential([])\n",
    "    preprocessing_model.add(tf.keras.layers.Rescaling(1. / 255))\n",
    "\n",
    "    ds = ds.map(\n",
    "        lambda image, class_label:\n",
    "        (preprocessing_model(image), (class_label))\n",
    "    )\n",
    "\n",
    "    return ds\n",
    "\n",
    "def build_dataset_from_df(df, batch_size):\n",
    "    ds = tf.data.Dataset.from_tensor_slices((\n",
    "        [path for path in df[\"path\"]],\n",
    "        list(df['class_label'])\n",
    "    ))\n",
    "\n",
    "    ds = ds.map(load_and_preprocess_from_path_label)\n",
    "    ds = ds.shuffle(buffer_size=1000)\n",
    "    ds = ds.repeat()\n",
    "    ds = ds.batch(batch_size)\n",
    "    ds = ds.prefetch(buffer_size=tf.data.AUTOTUNE)\n",
    "    ds = augmentation(ds)\n",
    "\n",
    "    return ds  "
   ]
  },
  {
   "cell_type": "code",
   "execution_count": 6,
   "id": "6dfcb602",
   "metadata": {
    "execution": {
     "iopub.execute_input": "2023-06-25T21:46:57.869497Z",
     "iopub.status.busy": "2023-06-25T21:46:57.869209Z",
     "iopub.status.idle": "2023-06-25T21:46:59.131225Z",
     "shell.execute_reply": "2023-06-25T21:46:59.130239Z"
    },
    "papermill": {
     "duration": 1.270052,
     "end_time": "2023-06-25T21:46:59.133407",
     "exception": false,
     "start_time": "2023-06-25T21:46:57.863355",
     "status": "completed"
    },
    "tags": []
   },
   "outputs": [],
   "source": [
    "from sklearn.model_selection import train_test_split\n",
    "\n",
    "temp_df, valid_df = train_test_split(df, test_size=0.2)\n",
    "train_df, test_df = train_test_split(temp_df, test_size=0.2)\n",
    "\n",
    "train_ds = build_dataset_from_df(train_df, 16)\n",
    "valid_ds = build_dataset_from_df(valid_df, 16)\n",
    "test_ds = build_dataset_from_df(test_df, 16)"
   ]
  },
  {
   "cell_type": "code",
   "execution_count": 7,
   "id": "5b21b070",
   "metadata": {
    "execution": {
     "iopub.execute_input": "2023-06-25T21:46:59.154807Z",
     "iopub.status.busy": "2023-06-25T21:46:59.154449Z",
     "iopub.status.idle": "2023-06-25T21:47:01.635579Z",
     "shell.execute_reply": "2023-06-25T21:47:01.634565Z"
    },
    "papermill": {
     "duration": 2.489474,
     "end_time": "2023-06-25T21:47:01.637758",
     "exception": false,
     "start_time": "2023-06-25T21:46:59.148284",
     "status": "completed"
    },
    "tags": []
   },
   "outputs": [
    {
     "name": "stdout",
     "output_type": "stream",
     "text": [
      "Image shape:  (16, 64, 64, 3)\n",
      "class_label shape:  tf.Tensor([1 0 1 0 0 1 0 0 0 1 1 0 0 0 1 1], shape=(16,), dtype=int32)\n",
      "Image shape:  (16, 64, 64, 3)\n",
      "class_label shape:  tf.Tensor([1 1 0 0 0 1 0 0 1 0 1 0 1 1 0 1], shape=(16,), dtype=int32)\n",
      "Image shape:  (16, 64, 64, 3)\n",
      "class_label shape:  tf.Tensor([1 0 0 0 0 0 0 0 0 0 0 0 1 0 1 1], shape=(16,), dtype=int32)\n",
      "Image shape:  (16, 64, 64, 3)\n",
      "class_label shape:  tf.Tensor([1 0 0 0 0 0 0 1 1 0 1 0 1 0 0 1], shape=(16,), dtype=int32)\n",
      "Image shape:  (16, 64, 64, 3)\n",
      "class_label shape:  tf.Tensor([1 0 1 1 0 1 1 1 1 1 1 1 1 0 0 1], shape=(16,), dtype=int32)\n",
      "Image shape:  (16, 64, 64, 3)\n",
      "class_label shape:  tf.Tensor([0 1 0 0 1 1 0 1 0 1 1 1 1 0 1 1], shape=(16,), dtype=int32)\n",
      "Image shape:  (16, 64, 64, 3)\n",
      "class_label shape:  tf.Tensor([1 1 1 0 0 1 1 1 1 0 0 0 0 0 0 0], shape=(16,), dtype=int32)\n",
      "Image shape:  (16, 64, 64, 3)\n",
      "class_label shape:  tf.Tensor([1 0 0 0 0 0 0 0 1 0 0 0 0 1 1 1], shape=(16,), dtype=int32)\n",
      "Image shape:  (16, 64, 64, 3)\n",
      "class_label shape:  tf.Tensor([1 1 1 0 1 0 1 1 0 1 1 0 1 1 0 0], shape=(16,), dtype=int32)\n",
      "Image shape:  (16, 64, 64, 3)\n",
      "class_label shape:  tf.Tensor([0 0 1 1 0 0 1 1 1 1 1 1 1 1 0 0], shape=(16,), dtype=int32)\n"
     ]
    }
   ],
   "source": [
    "for image, class_label in train_ds.take(10):\n",
    "    print(\"Image shape: \", image.shape)\n",
    "    print(\"class_label shape: \", class_label)"
   ]
  },
  {
   "cell_type": "code",
   "execution_count": 8,
   "id": "2e53bffc",
   "metadata": {
    "execution": {
     "iopub.execute_input": "2023-06-25T21:47:01.649309Z",
     "iopub.status.busy": "2023-06-25T21:47:01.648955Z",
     "iopub.status.idle": "2023-06-25T21:47:01.826890Z",
     "shell.execute_reply": "2023-06-25T21:47:01.825867Z"
    },
    "papermill": {
     "duration": 0.186945,
     "end_time": "2023-06-25T21:47:01.829928",
     "exception": false,
     "start_time": "2023-06-25T21:47:01.642983",
     "status": "completed"
    },
    "tags": []
   },
   "outputs": [
    {
     "name": "stdout",
     "output_type": "stream",
     "text": [
      "Model: \"sequential_3\"\n",
      "_________________________________________________________________\n",
      " Layer (type)                Output Shape              Param #   \n",
      "=================================================================\n",
      " conv2d (Conv2D)             (None, 62, 62, 32)        896       \n",
      "                                                                 \n",
      " max_pooling2d (MaxPooling2D  (None, 31, 31, 32)       0         \n",
      " )                                                               \n",
      "                                                                 \n",
      " conv2d_1 (Conv2D)           (None, 29, 29, 64)        18496     \n",
      "                                                                 \n",
      " max_pooling2d_1 (MaxPooling  (None, 14, 14, 64)       0         \n",
      " 2D)                                                             \n",
      "                                                                 \n",
      " conv2d_2 (Conv2D)           (None, 12, 12, 128)       73856     \n",
      "                                                                 \n",
      " max_pooling2d_2 (MaxPooling  (None, 6, 6, 128)        0         \n",
      " 2D)                                                             \n",
      "                                                                 \n",
      " conv2d_3 (Conv2D)           (None, 4, 4, 128)         147584    \n",
      "                                                                 \n",
      " max_pooling2d_3 (MaxPooling  (None, 2, 2, 128)        0         \n",
      " 2D)                                                             \n",
      "                                                                 \n",
      " flatten (Flatten)           (None, 512)               0         \n",
      "                                                                 \n",
      " dropout (Dropout)           (None, 512)               0         \n",
      "                                                                 \n",
      " dense (Dense)               (None, 512)               262656    \n",
      "                                                                 \n",
      " dense_1 (Dense)             (None, 1)                 513       \n",
      "                                                                 \n",
      "=================================================================\n",
      "Total params: 504,001\n",
      "Trainable params: 504,001\n",
      "Non-trainable params: 0\n",
      "_________________________________________________________________\n"
     ]
    }
   ],
   "source": [
    "def make_model(image_size, num_classes=2):\n",
    "\n",
    "    input_shape = image_size + (3,)\n",
    "\n",
    "    model = Sequential()\n",
    "    \n",
    "    #con 1( input layer)\n",
    "    model.add(Conv2D(32, (3, 3), activation='relu', input_shape=input_shape))\n",
    "    model.add(MaxPooling2D((2, 2)))\n",
    "    \n",
    "    #con 2\n",
    "    model.add(Conv2D(64, (3, 3), activation='relu'))\n",
    "    model.add(MaxPooling2D((2, 2)))\n",
    "    \n",
    "    #con 3\n",
    "    model.add(Conv2D(128, (3, 3), activation='relu'))\n",
    "    model.add(MaxPooling2D((2, 2)))\n",
    "    \n",
    "    #cov 4\n",
    "    model.add(Conv2D(128, (3, 3), activation='relu'))\n",
    "    model.add(MaxPooling2D((2, 2)))\n",
    "    \n",
    "    #flattening\n",
    "    model.add(Flatten())\n",
    "    model.add(Dropout(0.5))\n",
    "    \n",
    "    #dense 1\n",
    "    model.add(Dense(512, activation='relu'))\n",
    "    \n",
    "    #dense 2 (output layer)\n",
    "    model.add(Dense(1, activation='sigmoid'))\n",
    "    \n",
    "    return model\n",
    "\n",
    "mobilenet_model = make_model((64, 64))\n",
    "mobilenet_model.summary()"
   ]
  },
  {
   "cell_type": "code",
   "execution_count": 9,
   "id": "3b76a2bc",
   "metadata": {
    "execution": {
     "iopub.execute_input": "2023-06-25T21:47:01.845889Z",
     "iopub.status.busy": "2023-06-25T21:47:01.845480Z",
     "iopub.status.idle": "2023-06-25T21:47:01.862415Z",
     "shell.execute_reply": "2023-06-25T21:47:01.861458Z"
    },
    "papermill": {
     "duration": 0.027446,
     "end_time": "2023-06-25T21:47:01.864603",
     "exception": false,
     "start_time": "2023-06-25T21:47:01.837157",
     "status": "completed"
    },
    "tags": []
   },
   "outputs": [],
   "source": [
    "base_learning_rate = 0.001\n",
    "batch_size = 16\n",
    "initial_epochs = 10\n",
    "\n",
    "callback = EarlyStopping(monitor='val_accuracy', patience=20, restore_best_weights=True)\n",
    "optimizer = Adam(learning_rate = base_learning_rate)\n",
    "\n",
    "mobilenet_model.compile(\n",
    "    optimizer = optimizer,\n",
    "    loss = 'binary_crossentropy',\n",
    "    metrics = ['accuracy']\n",
    ")"
   ]
  },
  {
   "cell_type": "code",
   "execution_count": 10,
   "id": "6e856ed8",
   "metadata": {
    "execution": {
     "iopub.execute_input": "2023-06-25T21:47:01.880484Z",
     "iopub.status.busy": "2023-06-25T21:47:01.880122Z",
     "iopub.status.idle": "2023-06-25T21:49:24.934669Z",
     "shell.execute_reply": "2023-06-25T21:49:24.933602Z"
    },
    "papermill": {
     "duration": 143.065179,
     "end_time": "2023-06-25T21:49:24.937148",
     "exception": false,
     "start_time": "2023-06-25T21:47:01.871969",
     "status": "completed"
    },
    "tags": []
   },
   "outputs": [
    {
     "name": "stdout",
     "output_type": "stream",
     "text": [
      "Epoch 1/10\n",
      "204/204 [==============================] - 10s 45ms/step - loss: 0.3005 - accuracy: 0.8652 - val_loss: 0.1467 - val_accuracy: 0.9414\n",
      "Epoch 2/10\n",
      "204/204 [==============================] - 9s 42ms/step - loss: 0.1438 - accuracy: 0.9504 - val_loss: 0.0993 - val_accuracy: 0.9717\n",
      "Epoch 3/10\n",
      "204/204 [==============================] - 9s 43ms/step - loss: 0.1124 - accuracy: 0.9602 - val_loss: 0.0897 - val_accuracy: 0.9697\n",
      "Epoch 4/10\n",
      "204/204 [==============================] - 9s 45ms/step - loss: 0.0972 - accuracy: 0.9629 - val_loss: 0.1352 - val_accuracy: 0.9502\n",
      "Epoch 5/10\n",
      "204/204 [==============================] - 9s 45ms/step - loss: 0.0902 - accuracy: 0.9700 - val_loss: 0.1096 - val_accuracy: 0.9590\n",
      "Epoch 6/10\n",
      "204/204 [==============================] - 11s 56ms/step - loss: 0.0779 - accuracy: 0.9755 - val_loss: 0.0896 - val_accuracy: 0.9717\n",
      "Epoch 7/10\n",
      "204/204 [==============================] - 13s 66ms/step - loss: 0.0735 - accuracy: 0.9743 - val_loss: 0.0759 - val_accuracy: 0.9707\n",
      "Epoch 8/10\n",
      "204/204 [==============================] - 11s 56ms/step - loss: 0.0702 - accuracy: 0.9767 - val_loss: 0.0935 - val_accuracy: 0.9668\n",
      "Epoch 9/10\n",
      "204/204 [==============================] - 11s 54ms/step - loss: 0.0643 - accuracy: 0.9786 - val_loss: 0.0797 - val_accuracy: 0.9795\n",
      "Epoch 10/10\n",
      "204/204 [==============================] - 13s 62ms/step - loss: 0.0594 - accuracy: 0.9810 - val_loss: 0.0992 - val_accuracy: 0.9619\n"
     ]
    }
   ],
   "source": [
    "steps_per_epoch = len(train_df) // 16\n",
    "validation_steps = len(valid_df) // 16\n",
    "\n",
    "hist = mobilenet_model.fit(\n",
    "    train_ds,\n",
    "    epochs = initial_epochs, \n",
    "    steps_per_epoch = steps_per_epoch,\n",
    "    validation_data = valid_ds,\n",
    "    validation_steps = validation_steps,\n",
    "    callbacks = callback\n",
    ").history"
   ]
  },
  {
   "cell_type": "code",
   "execution_count": 11,
   "id": "151b6dd6",
   "metadata": {},
   "outputs": [],
   "source": [
    "#mobilenet_model.save(\"yawn_model_new.h5\")"
   ]
  },
  {
   "cell_type": "code",
   "execution_count": 12,
   "id": "29109de3",
   "metadata": {
    "execution": {
     "iopub.execute_input": "2023-06-25T21:49:25.095092Z",
     "iopub.status.busy": "2023-06-25T21:49:25.094735Z",
     "iopub.status.idle": "2023-06-25T21:49:25.305262Z",
     "shell.execute_reply": "2023-06-25T21:49:25.304420Z"
    },
    "papermill": {
     "duration": 0.291657,
     "end_time": "2023-06-25T21:49:25.307167",
     "exception": false,
     "start_time": "2023-06-25T21:49:25.015510",
     "status": "completed"
    },
    "tags": []
   },
   "outputs": [
    {
     "data": {
      "text/plain": [
       "[<matplotlib.lines.Line2D at 0x2198009a020>]"
      ]
     },
     "execution_count": 12,
     "metadata": {},
     "output_type": "execute_result"
    },
    {
     "data": {
      "image/png": "[encoded data removed]",
      "text/plain": [
       "<Figure size 432x288 with 1 Axes>"
      ]
     },
     "metadata": {
      "needs_background": "light"
     },
     "output_type": "display_data"
    }
   ],
   "source": [
    "plt.plot(hist['accuracy'])\n",
    "plt.plot(hist['val_accuracy'])"
   ]
  },
  {
   "cell_type": "code",
   "execution_count": 13,
   "id": "9a85f270",
   "metadata": {
    "execution": {
     "iopub.execute_input": "2023-06-25T21:49:25.466334Z",
     "iopub.status.busy": "2023-06-25T21:49:25.465599Z",
     "iopub.status.idle": "2023-06-25T21:49:25.650957Z",
     "shell.execute_reply": "2023-06-25T21:49:25.650071Z"
    },
    "papermill": {
     "duration": 0.266873,
     "end_time": "2023-06-25T21:49:25.653041",
     "exception": false,
     "start_time": "2023-06-25T21:49:25.386168",
     "status": "completed"
    },
    "tags": []
   },
   "outputs": [
    {
     "data": {
      "text/plain": [
       "[<matplotlib.lines.Line2D at 0x219811746a0>]"
      ]
     },
     "execution_count": 13,
     "metadata": {},
     "output_type": "execute_result"
    },
    {
     "data": {
      "image/png": "[encoded data removed]",
      "text/plain": [
       "<Figure size 432x288 with 1 Axes>"
      ]
     },
     "metadata": {
      "needs_background": "light"
     },
     "output_type": "display_data"
    }
   ],
   "source": [
    "plt.plot(hist['loss'])\n",
    "plt.plot(hist['val_loss'])"
   ]
  },
  {
   "cell_type": "code",
   "execution_count": 14,
   "id": "7bbb7e8b",
   "metadata": {
    "execution": {
     "iopub.execute_input": "2023-06-25T21:49:25.812217Z",
     "iopub.status.busy": "2023-06-25T21:49:25.811882Z",
     "iopub.status.idle": "2023-06-25T21:50:06.567288Z",
     "shell.execute_reply": "2023-06-25T21:50:06.565921Z"
    },
    "papermill": {
     "duration": 40.837389,
     "end_time": "2023-06-25T21:50:06.568795",
     "exception": true,
     "start_time": "2023-06-25T21:49:25.731406",
     "status": "failed"
    },
    "tags": []
   },
   "outputs": [
    {
     "name": "stdout",
     "output_type": "stream",
     "text": [
      "1000/1000 [==============================] - 22s 22ms/step - loss: 0.0996 - accuracy: 0.9618\n",
      "loss: 0.0995555892586708\n",
      "accuracy: 0.9618124961853027\n",
      "F1 score: 0.5218982554593145\n"
     ]
    }
   ],
   "source": [
    "\n",
    "# Get the number of steps for prediction and evaluation\n",
    "prediction_steps =1000#tf.data.experimental.cardinality(valid_ds).numpy() // batch_size\n",
    "evaluation_steps =1000#tf.data.experimental.cardinality(valid_ds).numpy() // batch_size\n",
    "\n",
    "# Generate predictions\n",
    "y_pred = (mobilenet_model.predict(valid_ds.take(prediction_steps), steps=prediction_steps) > 0.5).astype(int)\n",
    "\n",
    "# Get true labels\n",
    "y_true = np.concatenate([y for x, y in valid_ds.take(evaluation_steps)], axis=0)\n",
    "\n",
    "# Evaluate the model\n",
    "results = mobilenet_model.evaluate(valid_ds.take(evaluation_steps), steps=evaluation_steps)\n",
    "for name, value in zip(mobilenet_model.metrics_names, results):\n",
    "    print(f'{name}: {value}')\n",
    "\n",
    "# Calculate F1 score\n",
    "import sklearn\n",
    "from sklearn.metrics import f1_score\n",
    "\n",
    "f1_score = sklearn.metrics.f1_score(y_true, y_pred)\n",
    "print(f'F1 score: {f1_score}')"
   ]
  },
  {
   "cell_type": "markdown",
   "id": "24ebe4f9",
   "metadata": {
    "papermill": {
     "duration": null,
     "end_time": null,
     "exception": null,
     "start_time": null,
     "status": "pending"
    },
    "tags": []
   },
   "source": [
    "**Confusion matrix**"
   ]
  },
  {
   "cell_type": "code",
   "execution_count": 15,
   "id": "b825a27f",
   "metadata": {
    "execution": {
     "iopub.execute_input": "2023-06-25T19:56:09.206791Z",
     "iopub.status.busy": "2023-06-25T19:56:09.206002Z",
     "iopub.status.idle": "2023-06-25T19:56:09.240724Z",
     "shell.execute_reply": "2023-06-25T19:56:09.239697Z",
     "shell.execute_reply.started": "2023-06-25T19:56:09.206723Z"
    },
    "papermill": {
     "duration": null,
     "end_time": null,
     "exception": null,
     "start_time": null,
     "status": "pending"
    },
    "tags": []
   },
   "outputs": [
    {
     "data": {
      "text/html": [
       "<div>\n",
       "<style scoped>\n",
       "    .dataframe tbody tr th:only-of-type {\n",
       "        vertical-align: middle;\n",
       "    }\n",
       "\n",
       "    .dataframe tbody tr th {\n",
       "        vertical-align: top;\n",
       "    }\n",
       "\n",
       "    .dataframe thead th {\n",
       "        text-align: right;\n",
       "    }\n",
       "</style>\n",
       "<table border=\"1\" class=\"dataframe\">\n",
       "  <thead>\n",
       "    <tr style=\"text-align: right;\">\n",
       "      <th></th>\n",
       "      <th>pred no yawn</th>\n",
       "      <th>pred yawn</th>\n",
       "    </tr>\n",
       "  </thead>\n",
       "  <tbody>\n",
       "    <tr>\n",
       "      <th>true no yawn</th>\n",
       "      <td>3884</td>\n",
       "      <td>3767</td>\n",
       "    </tr>\n",
       "    <tr>\n",
       "      <th>true yawn</th>\n",
       "      <td>4071</td>\n",
       "      <td>4278</td>\n",
       "    </tr>\n",
       "  </tbody>\n",
       "</table>\n",
       "</div>"
      ],
      "text/plain": [
       "              pred no yawn  pred yawn\n",
       "true no yawn          3884       3767\n",
       "true yawn             4071       4278"
      ]
     },
     "execution_count": 15,
     "metadata": {},
     "output_type": "execute_result"
    }
   ],
   "source": [
    "pd.DataFrame(sklearn.metrics.confusion_matrix(y_true, y_pred),\n",
    "             columns=['pred no yawn', 'pred yawn'],\n",
    "             index=['true no yawn', 'true yawn'])"
   ]
  },
  {
   "cell_type": "markdown",
   "id": "ed201157",
   "metadata": {
    "papermill": {
     "duration": null,
     "end_time": null,
     "exception": null,
     "start_time": null,
     "status": "pending"
    },
    "tags": []
   },
   "source": [
    "Explanation of above table confusion matrix\n",
    "Top-left cell: \"pred no yawn\" and \"true no yawn\"\n",
    "\n",
    "This cell indicates the number of instances where the model correctly predicted \"no yawn\" (negative class) when the true label was also \"no yawn\".\n",
    "In your case, the count is 4188, meaning there were 4188 instances where the model correctly predicted \"no yawn\" when the true label was also \"no yawn\".\n",
    "Top-right cell: \"pred yawn\" and \"true no yawn\"\n",
    "\n",
    "This cell indicates the number of instances where the model incorrectly predicted \"yawn\" (positive class) when the true label was \"no yawn\".\n",
    "In your case, the count is 4035, meaning there were 4035 instances where the model mistakenly predicted \"yawn\" when the true label was actually \"no yawn\".\n",
    "Bottom-left cell: \"pred no yawn\" and \"true yawn\"\n",
    "\n",
    "This cell indicates the number of instances where the model incorrectly predicted \"no yawn\" when the true label was \"yawn\".\n",
    "In your case, the count is 4011, meaning there were 4011 instances where the model mistakenly predicted \"no yawn\" when the true label was actually \"yawn\".\n",
    "Bottom-right cell: \"pred yawn\" and \"true yawn\"\n",
    "\n",
    "This cell indicates the number of instances where the model correctly predicted \"yawn\" when the true label was also \"yawn\".\n",
    "In your case, the count is 3766, meaning there were 3766 instances where the model correctly predicted \"yawn\" when the true label was also \"yawn\"."
   ]
  },
  {
   "cell_type": "code",
   "execution_count": 16,
   "id": "3ccace9c",
   "metadata": {
    "execution": {
     "iopub.execute_input": "2023-06-25T14:17:41.901408Z",
     "iopub.status.busy": "2023-06-25T14:17:41.900953Z",
     "iopub.status.idle": "2023-06-25T14:17:42.309666Z",
     "shell.execute_reply": "2023-06-25T14:17:42.308435Z",
     "shell.execute_reply.started": "2023-06-25T14:17:41.901366Z"
    },
    "papermill": {
     "duration": null,
     "end_time": null,
     "exception": null,
     "start_time": null,
     "status": "pending"
    },
    "tags": []
   },
   "outputs": [
    {
     "name": "stdout",
     "output_type": "stream",
     "text": [
      "(64, 64, 3)\n",
      "[[0.00160754]]\n",
      "(64, 64, 3)\n",
      "[[0.8075842]]\n"
     ]
    }
   ],
   "source": [
    "def predict_class(image):\n",
    "    image = cv2.imread(image)\n",
    "    image = cv2.resize(image, (64, 64))\n",
    "    image = image / 255.0\n",
    "    print(image.shape)\n",
    "    \n",
    "    result = mobilenet_model.predict(np.expand_dims(image, axis=0))\n",
    "    print(result)\n",
    "    \n",
    "    \n",
    "predict_class('yawn-dataset/yawn/1005.jpg')\n",
    "predict_class('yawn-dataset/no yawn/2778.jpg')"
   ]
  },
  {
   "cell_type": "code",
   "execution_count": 17,
   "id": "1805c763",
   "metadata": {
    "execution": {
     "iopub.execute_input": "2023-06-25T14:18:12.145563Z",
     "iopub.status.busy": "2023-06-25T14:18:12.144855Z",
     "iopub.status.idle": "2023-06-25T14:18:14.735387Z",
     "shell.execute_reply": "2023-06-25T14:18:14.734263Z",
     "shell.execute_reply.started": "2023-06-25T14:18:12.145507Z"
    },
    "papermill": {
     "duration": null,
     "end_time": null,
     "exception": null,
     "start_time": null,
     "status": "pending"
    },
    "tags": []
   },
   "outputs": [
    {
     "name": "stdout",
     "output_type": "stream",
     "text": [
      "51/51 [==============================] - 2s 19ms/step - loss: 0.1818 - accuracy: 0.9522\n"
     ]
    },
    {
     "data": {
      "text/plain": [
       "[0.1818152219057083, 0.9522058963775635]"
      ]
     },
     "execution_count": 17,
     "metadata": {},
     "output_type": "execute_result"
    }
   ],
   "source": [
    "steps_per_epoch = len(test_df) // 16\n",
    "mobilenet_model.evaluate(test_ds, steps = steps_per_epoch)"
   ]
  },
  {
   "cell_type": "code",
   "execution_count": 18,
   "id": "97bf5cba",
   "metadata": {
    "papermill": {
     "duration": null,
     "end_time": null,
     "exception": null,
     "start_time": null,
     "status": "pending"
    },
    "tags": []
   },
   "outputs": [],
   "source": [
    "model_json = mobilenet_model.to_json()\n",
    "with open(\"mouth_model.json\", \"w\") as json_file:\n",
    "    json_file.write(model_json)\n",
    "    \n",
    "mobilenet_model.save_weights('mouth_model.h5')"
   ]
  },
  {
   "cell_type": "code",
   "execution_count": 21,
   "id": "ad652077",
   "metadata": {
    "papermill": {
     "duration": null,
     "end_time": null,
     "exception": null,
     "start_time": null,
     "status": "pending"
    },
    "tags": []
   },
   "outputs": [],
   "source": [
    "mobilenet_model.save(\"yawn_model_new.h5\")"
   ]
  },
  {
   "cell_type": "code",
   "execution_count": null,
   "id": "3e292c0c",
   "metadata": {
    "papermill": {
     "duration": null,
     "end_time": null,
     "exception": null,
     "start_time": null,
     "status": "pending"
    },
    "tags": []
   },
   "outputs": [],
   "source": []
  },
  {
   "cell_type": "code",
   "execution_count": null,
   "id": "5c7a5857",
   "metadata": {
    "papermill": {
     "duration": null,
     "end_time": null,
     "exception": null,
     "start_time": null,
     "status": "pending"
    },
    "tags": []
   },
   "outputs": [],
   "source": []
  }
 ],
 "metadata": {
  "kernelspec": {
   "display_name": "Python 3 (ipykernel)",
   "language": "python",
   "name": "python3"
  },
  "language_info": {
   "codemirror_mode": {
    "name": "ipython",
    "version": 3
   },
   "file_extension": ".py",
   "mimetype": "text/x-python",
   "name": "python",
   "nbconvert_exporter": "python",
   "pygments_lexer": "ipython3",
   "version": "3.10.2"
  },
  "papermill": {
   "default_parameters": {},
   "duration": 214.441601,
   "end_time": "2023-06-25T21:50:09.849490",
   "environment_variables": {},
   "exception": true,
   "input_path": "__notebook__.ipynb",
   "output_path": "__notebook__.ipynb",
   "parameters": {},
   "start_time": "2023-06-25T21:46:35.407889",
   "version": "2.4.0"
  }
 },
 "nbformat": 4,
 "nbformat_minor": 5
}
